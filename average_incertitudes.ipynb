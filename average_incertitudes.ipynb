{
 "cells": [
  {
   "cell_type": "code",
   "execution_count": 1,
   "id": "7ff229f9",
   "metadata": {
    "ExecuteTime": {
     "end_time": "2022-08-17T08:56:50.482887Z",
     "start_time": "2022-08-17T08:56:50.414381Z"
    }
   },
   "outputs": [],
   "source": [
    "import os\n",
    "import pickle\n",
    "import numpy as np"
   ]
  },
  {
   "cell_type": "code",
   "execution_count": 2,
   "id": "a25f04ac",
   "metadata": {
    "ExecuteTime": {
     "end_time": "2022-08-17T08:56:50.488099Z",
     "start_time": "2022-08-17T08:56:50.484300Z"
    }
   },
   "outputs": [],
   "source": [
    "datasets = [\n",
    "    'IRIS',\n",
    "    'AUSTRALIAN',\n",
    "    'WINE',\n",
    "    'PIMA',\n",
    "    'ABALONE',\n",
    "]\n",
    "\n",
    "imputation_methods = [\n",
    "    'MISSFOREST',\n",
    "    'SOFTIMPUTE',\n",
    "    'GAIN',\n",
    "    'MIDA',\n",
    "    'SINKHORN',\n",
    "]\n",
    "missing_modes = ['MCAR', 'MAR', 'MNAR']\n",
    "missing_rates = [.1, .15, .25]\n",
    "\n",
    "n_imputations = 20"
   ]
  },
  {
   "cell_type": "code",
   "execution_count": 3,
   "id": "39a1357a",
   "metadata": {
    "ExecuteTime": {
     "end_time": "2022-08-17T08:56:50.691091Z",
     "start_time": "2022-08-17T08:56:50.489578Z"
    },
    "scrolled": false
   },
   "outputs": [
    {
     "name": "stdout",
     "output_type": "stream",
     "text": [
      "\n",
      "## ------------- ##\n",
      "## Dataset: IRIS ##\n",
      "\n",
      "MISSFOREST:   incertitude: 1.1965%\n",
      "SOFTIMPUTE:   incertitude: 10.8808%\n",
      "GAIN:         incertitude: 1.6804%\n",
      "MIDA:         incertitude: 1.1673%\n",
      "SINKHORN:     incertitude: 1.1053%\n",
      "\n",
      "## ------------------- ##\n",
      "## Dataset: AUSTRALIAN ##\n",
      "\n",
      "MISSFOREST:   incertitude: 2.8167%\n",
      "SOFTIMPUTE:   incertitude: 9.9198%\n",
      "GAIN:         incertitude: 9.3976%\n",
      "MIDA:         incertitude: 1.0666%\n",
      "SINKHORN:     incertitude: 4.3111%\n",
      "\n",
      "## ------------- ##\n",
      "## Dataset: WINE ##\n",
      "\n",
      "MISSFOREST:   incertitude: 1.6140%\n",
      "SOFTIMPUTE:   incertitude: 7.5060%\n",
      "GAIN:         incertitude: 1.3125%\n",
      "MIDA:         incertitude: 0.9283%\n",
      "SINKHORN:     incertitude: 0.7496%\n",
      "\n",
      "## ------------- ##\n",
      "## Dataset: PIMA ##\n",
      "\n",
      "MISSFOREST:   incertitude: 1.8177%\n",
      "SOFTIMPUTE:   incertitude: 7.7407%\n",
      "GAIN:         incertitude: 1.3669%\n",
      "MIDA:         incertitude: 0.6446%\n",
      "SINKHORN:     incertitude: 1.2742%\n",
      "\n",
      "## ---------------- ##\n",
      "## Dataset: ABALONE ##\n",
      "\n",
      "MISSFOREST:   incertitude: 0.9456%\n",
      "SOFTIMPUTE:   incertitude: 5.3656%\n",
      "GAIN:         incertitude: 1.6819%\n",
      "MIDA:         incertitude: 0.5293%\n",
      "SINKHORN:     incertitude: 1.2218%\n",
      "\n"
     ]
    }
   ],
   "source": [
    "for dataset in datasets:\n",
    "    print('\\n## ' + '-' * len(f'Dataset: {dataset}') + ' ##')\n",
    "    print(f'## Dataset: {dataset} ##\\n')\n",
    "    for imputation_method in imputation_methods:\n",
    "        incertitudes = []\n",
    "        for missing_mode in missing_modes:\n",
    "            for missing_rate in missing_rates:\n",
    "                imp_name = f'{dataset}_{missing_mode}_{f\"{missing_rate:.02f}\".split(\".\")[-1]}_m{imputation_method}'\n",
    "                if os.path.isfile(f'imputations/{imp_name}.pickle'):\n",
    "                    imputations = pickle.load(open(f'imputations/{imp_name}.pickle', 'rb'))[:n_imputations]\n",
    "                    stds = np.std(imputations, axis=0)\n",
    "                    incertitudes.append(np.true_divide(stds.sum(),(stds!=0).sum()) * 100.)\n",
    "        print(f'{imputation_method}: {\" \" * (12 - (len(imputation_method)))}incertitude: {np.mean(incertitudes):.04f}%')\n",
    "print()"
   ]
  }
 ],
 "metadata": {
  "kernelspec": {
   "display_name": "Python 3 (ipykernel)",
   "language": "python",
   "name": "python3"
  },
  "language_info": {
   "codemirror_mode": {
    "name": "ipython",
    "version": 3
   },
   "file_extension": ".py",
   "mimetype": "text/x-python",
   "name": "python",
   "nbconvert_exporter": "python",
   "pygments_lexer": "ipython3",
   "version": "3.9.7"
  },
  "latex_envs": {
   "LaTeX_envs_menu_present": true,
   "autoclose": false,
   "autocomplete": true,
   "bibliofile": "biblio.bib",
   "cite_by": "apalike",
   "current_citInitial": 1,
   "eqLabelWithNumbers": true,
   "eqNumInitial": 1,
   "hotkeys": {
    "equation": "Ctrl-E",
    "itemize": "Ctrl-I"
   },
   "labels_anchors": false,
   "latex_user_defs": false,
   "report_style_numbering": false,
   "user_envs_cfg": false
  }
 },
 "nbformat": 4,
 "nbformat_minor": 5
}
