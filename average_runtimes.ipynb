{
 "cells": [
  {
   "cell_type": "code",
   "execution_count": 1,
   "id": "6e836fcf",
   "metadata": {
    "ExecuteTime": {
     "end_time": "2022-09-08T11:27:29.881784Z",
     "start_time": "2022-09-08T11:27:27.538900Z"
    },
    "execution": {
     "iopub.execute_input": "2022-09-09T11:26:16.017270Z",
     "iopub.status.busy": "2022-09-09T11:26:16.012091Z",
     "iopub.status.idle": "2022-09-09T11:26:18.433330Z",
     "shell.execute_reply": "2022-09-09T11:26:18.431992Z"
    }
   },
   "outputs": [],
   "source": [
    "import time\n",
    "import utils\n",
    "from utils_na import inject_missing\n",
    "import numpy as np"
   ]
  },
  {
   "cell_type": "code",
   "execution_count": 2,
   "id": "2c10c9f3",
   "metadata": {
    "ExecuteTime": {
     "end_time": "2022-09-09T11:25:29.009416Z",
     "start_time": "2022-09-09T11:25:28.997946Z"
    },
    "execution": {
     "iopub.execute_input": "2022-09-09T11:26:18.442081Z",
     "iopub.status.busy": "2022-09-09T11:26:18.440845Z",
     "iopub.status.idle": "2022-09-09T11:26:18.443297Z",
     "shell.execute_reply": "2022-09-09T11:26:18.444181Z"
    }
   },
   "outputs": [],
   "source": [
    "params = {\n",
    "    'IRIS': {\n",
    "        'n_batches': 10,\n",
    "        'epochs': 50,\n",
    "        'alpha': 1.,\n",
    "    },\n",
    "    'AUSTRALIAN': {\n",
    "        'n_batches': 10,\n",
    "        'epochs': 20,\n",
    "        'alpha': 1.,\n",
    "    },\n",
    "    'WINE': {\n",
    "        'n_batches': 10,\n",
    "        'epochs': 50,\n",
    "        'alpha': 1.,\n",
    "    },\n",
    "    'PIMA': {\n",
    "        'n_batches': 20,\n",
    "        'epochs': 50,\n",
    "        'alpha': 1.,\n",
    "    },\n",
    "    'ABALONE': {\n",
    "        'n_batches': 100,\n",
    "        'epochs': 50,\n",
    "        'alpha': .3,\n",
    "    },\n",
    "}\n",
    "\n",
    "datasets = [\n",
    "    'IRIS',\n",
    "    'AUSTRALIAN',\n",
    "    'WINE',\n",
    "    'ABALONE',\n",
    "    'PIMA',\n",
    "]\n",
    "\n",
    "clean_datasets = {\n",
    "    'IRIS': 'IRIS',\n",
    "    'AUSTRALIAN': 'STAT',\n",
    "    'WINE': 'WINE',\n",
    "    'ABALONE': 'ABAL',\n",
    "    'PIMA': 'PIMA',\n",
    "}\n",
    "\n",
    "approaches = [\n",
    "    'SINGLE',\n",
    "    'MULTIPLE',\n",
    "    'SINGLE-HOT-PATCH',\n",
    "    'HOT-PATCH',\n",
    "]\n",
    "\n",
    "imputation_methods = [\n",
    "    'MISSFOREST',\n",
    "    'SOFTIMPUTE',\n",
    "    'GAIN',\n",
    "    'MIDA',\n",
    "    'SINKHORN',\n",
    "]\n",
    "\n",
    "missing_mode = 'MNAR'\n",
    "missing_rate = .15\n",
    "n_runs = 10\n",
    "n_imputations = 20"
   ]
  },
  {
   "cell_type": "code",
   "execution_count": 3,
   "id": "ad9031f7",
   "metadata": {
    "ExecuteTime": {
     "end_time": "2022-09-08T11:29:53.555854Z",
     "start_time": "2022-09-08T11:27:29.890598Z"
    },
    "execution": {
     "iopub.execute_input": "2022-09-09T11:26:18.455457Z",
     "iopub.status.busy": "2022-09-09T11:26:18.453831Z",
     "iopub.status.idle": "2022-09-09T12:38:48.005215Z",
     "shell.execute_reply": "2022-09-09T12:38:48.005833Z"
    }
   },
   "outputs": [],
   "source": [
    "%%capture\n",
    "\n",
    "imp_times = {\n",
    "    dataset: {\n",
    "        imputation_method: {\n",
    "            approach: 0 for approach in approaches\n",
    "        }\n",
    "        for imputation_method in imputation_methods\n",
    "    }\n",
    "    for dataset in datasets\n",
    "}\n",
    "\n",
    "running_times = {\n",
    "    dataset: {\n",
    "        imputation_method: {\n",
    "            approach: 0 for approach in approaches\n",
    "        }\n",
    "        for imputation_method in imputation_methods\n",
    "    }\n",
    "    for dataset in datasets\n",
    "}\n",
    "\n",
    "for dataset in datasets:\n",
    "    # Load dataset\n",
    "    x, y = utils.load_ds(dataset, shuffle_seed=0)\n",
    "    # Inject missing values given missing mode and rate\n",
    "    data_missing, missing_mask = inject_missing(x, missing_rate, missing_mode, random_seed=0)\n",
    "    data_missing_nans = np.where(missing_mask, data_missing, np.nan)\n",
    "    # Execute 1 imputation with each imputation method without saving results just to get runtime required\n",
    "    for imputation_method in imputation_methods:\n",
    "        start = time.time()\n",
    "        _ = utils.run_imputations(data_missing_nans, missing_mask, data_missing, imputation_method, 1)\n",
    "        total_time = time.time() - start\n",
    "        for approach in approaches:\n",
    "            imp_times[dataset][imputation_method][approach] = total_time * (1 if approach == 'SINGLE' else n_imputations)\n",
    "    # get n imputations results\n",
    "    imp_name = f'{dataset}_{missing_mode}_{f\"{missing_rate:.02f}\".split(\".\")[-1]}_m{imputation_methods[0]}'\n",
    "    imputations = utils.run_imputations(data_missing_nans, missing_mask, data_missing, imputation_methods[0],\n",
    "                                        n_imputations, imp_name)\n",
    "    n_batches = params[dataset]['n_batches']\n",
    "    epochs = params[dataset]['epochs']\n",
    "    alpha = params[dataset]['alpha']\n",
    "    for approach in approaches:\n",
    "        approach_times = []\n",
    "        np.random.seed(0)\n",
    "        for run in range(n_runs):\n",
    "            start = time.time()\n",
    "            y_probas, y_test = utils.run_approach(approach, imputations, y, run, n_runs, epochs, n_batches,\n",
    "                                                  [32, 32], alpha)\n",
    "            approach_times.append(time.time() - start)\n",
    "        for imputation_method in imputation_methods:\n",
    "            running_times[dataset][imputation_method][approach] = np.mean(approach_times)"
   ]
  },
  {
   "cell_type": "code",
   "execution_count": 9,
   "id": "53044bf2",
   "metadata": {
    "ExecuteTime": {
     "end_time": "2022-09-09T12:45:17.283227Z",
     "start_time": "2022-09-09T12:45:17.265759Z"
    },
    "execution": {
     "iopub.execute_input": "2022-09-09T12:38:48.031814Z",
     "iopub.status.busy": "2022-09-09T12:38:48.029817Z",
     "iopub.status.idle": "2022-09-09T12:38:48.036136Z",
     "shell.execute_reply": "2022-09-09T12:38:48.036630Z"
    }
   },
   "outputs": [
    {
     "name": "stdout",
     "output_type": "stream",
     "text": [
      "\\multirow{5}{*}{IRIS} & MISS & $10.61$ & \\multirow{5}{*}{$0.62$} & $212.30$ & \\multirow{5}{*}{$12.13$} & $212.30$ & \\multirow{5}{*}{$0.60$} & $212.30$ & \\multirow{5}{*}{$12.60$} \\\\\n",
      "& SOFT & $0.02$ & & $0.34$ & & $0.34$ & & $0.34$ & \\\\\n",
      "& GAIN & $17.76$ & & $355.12$ & & $355.12$ & & $355.12$ & \\\\\n",
      "& MIDA & $21.02$ & & $420.40$ & & $420.40$ & & $420.40$ & \\\\\n",
      "& SINK & $43.27$ & & $865.39$ & & $865.39$ & & $865.39$ & \\\\\n",
      "\\hline\n",
      "\\multirow{5}{*}{STAT} & MISS & $41.09$ & \\multirow{5}{*}{$0.29$} & $821.84$ & \\multirow{5}{*}{$4.82$} & $821.84$ & \\multirow{5}{*}{$0.31$} & $821.84$ & \\multirow{5}{*}{$5.56$} \\\\\n",
      "& SOFT & $0.01$ & & $0.14$ & & $0.14$ & & $0.14$ & \\\\\n",
      "& GAIN & $25.58$ & & $511.67$ & & $511.67$ & & $511.67$ & \\\\\n",
      "& MIDA & $16.71$ & & $334.11$ & & $334.11$ & & $334.11$ & \\\\\n",
      "& SINK & $46.62$ & & $932.40$ & & $932.40$ & & $932.40$ & \\\\\n",
      "\\hline\n",
      "\\multirow{5}{*}{WINE} & MISS & $35.74$ & \\multirow{5}{*}{$0.58$} & $714.80$ & \\multirow{5}{*}{$12.30$} & $714.80$ & \\multirow{5}{*}{$0.60$} & $714.80$ & \\multirow{5}{*}{$12.51$} \\\\\n",
      "& SOFT & $0.01$ & & $0.13$ & & $0.13$ & & $0.13$ & \\\\\n",
      "& GAIN & $21.48$ & & $429.58$ & & $429.58$ & & $429.58$ & \\\\\n",
      "& MIDA & $16.89$ & & $337.80$ & & $337.80$ & & $337.80$ & \\\\\n",
      "& SINK & $45.74$ & & $914.75$ & & $914.75$ & & $914.75$ & \\\\\n",
      "\\hline\n",
      "\\multirow{5}{*}{ABAL} & MISS & $21.99$ & \\multirow{5}{*}{$5.98$} & $439.77$ & \\multirow{5}{*}{$123.53$} & $439.77$ & \\multirow{5}{*}{$6.45$} & $439.77$ & \\multirow{5}{*}{$127.83$} \\\\\n",
      "& SOFT & $0.01$ & & $0.18$ & & $0.18$ & & $0.18$ & \\\\\n",
      "& GAIN & $19.48$ & & $389.58$ & & $389.58$ & & $389.58$ & \\\\\n",
      "& MIDA & $17.94$ & & $358.85$ & & $358.85$ & & $358.85$ & \\\\\n",
      "& SINK & $43.89$ & & $877.82$ & & $877.82$ & & $877.82$ & \\\\\n",
      "\\hline\n",
      "\\multirow{5}{*}{PIMA} & MISS & $24.84$ & \\multirow{5}{*}{$1.31$} & $496.75$ & \\multirow{5}{*}{$24.38$} & $496.75$ & \\multirow{5}{*}{$1.33$} & $496.75$ & \\multirow{5}{*}{$25.44$} \\\\\n",
      "& SOFT & $0.01$ & & $0.12$ & & $0.12$ & & $0.12$ & \\\\\n",
      "& GAIN & $20.87$ & & $417.40$ & & $417.40$ & & $417.40$ & \\\\\n",
      "& MIDA & $19.26$ & & $385.26$ & & $385.26$ & & $385.26$ & \\\\\n",
      "& SINK & $46.61$ & & $932.21$ & & $932.21$ & & $932.21$ & \\\\\n",
      "\\hline\n"
     ]
    }
   ],
   "source": [
    "for dataset in datasets:\n",
    "    line = f'\\\\multirow{{5}}{{*}}{{{clean_datasets[dataset]}}} '\n",
    "    for i, imputation_method in enumerate(imputation_methods):\n",
    "        line += f'& {imputation_method[:4]}'\n",
    "        for approach in approaches:\n",
    "            line += f' & ${imp_times[dataset][imputation_method][approach]:.02f}$'\n",
    "            if i == 0:\n",
    "                line += f' & \\\\multirow{{5}}{{*}}{{${running_times[dataset][imputation_method][approach]:.02f}$}}'\n",
    "            else:\n",
    "                line += ' &'\n",
    "        line += ' \\\\\\\\'\n",
    "        print(line)\n",
    "        line = ''\n",
    "    print('\\hline')"
   ]
  }
 ],
 "metadata": {
  "kernelspec": {
   "display_name": "Python 3 (ipykernel)",
   "language": "python",
   "name": "python3"
  },
  "language_info": {
   "codemirror_mode": {
    "name": "ipython",
    "version": 3
   },
   "file_extension": ".py",
   "mimetype": "text/x-python",
   "name": "python",
   "nbconvert_exporter": "python",
   "pygments_lexer": "ipython3",
   "version": "3.9.7"
  },
  "latex_envs": {
   "LaTeX_envs_menu_present": true,
   "autoclose": false,
   "autocomplete": true,
   "bibliofile": "biblio.bib",
   "cite_by": "apalike",
   "current_citInitial": 1,
   "eqLabelWithNumbers": true,
   "eqNumInitial": 1,
   "hotkeys": {
    "equation": "Ctrl-E",
    "itemize": "Ctrl-I"
   },
   "labels_anchors": false,
   "latex_user_defs": false,
   "report_style_numbering": false,
   "user_envs_cfg": false
  }
 },
 "nbformat": 4,
 "nbformat_minor": 5
}
