{
 "cells": [
  {
   "cell_type": "code",
   "execution_count": 1,
   "id": "7ff229f9",
   "metadata": {
    "ExecuteTime": {
     "end_time": "2023-02-27T10:50:53.247771Z",
     "start_time": "2023-02-27T10:50:53.154662Z"
    }
   },
   "outputs": [],
   "source": [
    "import os\n",
    "import pickle\n",
    "import numpy as np"
   ]
  },
  {
   "cell_type": "code",
   "execution_count": 12,
   "id": "74f2edc7",
   "metadata": {
    "ExecuteTime": {
     "end_time": "2023-02-27T10:55:41.780193Z",
     "start_time": "2023-02-27T10:55:41.768374Z"
    }
   },
   "outputs": [],
   "source": [
    "imputation_method = 'MIDA'\n",
    "\n",
    "params = {\n",
    "    'COVID': {\n",
    "        'n_imputations': 20,\n",
    "        'n_runs': 200,\n",
    "        'epochs': 50,\n",
    "        'n_batches': 10,\n",
    "        'hidden_layer_sizes': [128, 32],\n",
    "        'alpha': 1.,\n",
    "    },\n",
    "    'MYOCARDIAL': {\n",
    "        'n_imputations': 20,\n",
    "        'n_runs': 200,\n",
    "        'epochs': 40,\n",
    "        'n_batches': 50,\n",
    "        'hidden_layer_sizes': [64, 32],\n",
    "        'alpha': 1.,\n",
    "    },\n",
    "    'NHANES': {\n",
    "        'n_imputations': 20,\n",
    "        'n_runs': 200,\n",
    "        'epochs': 50,\n",
    "        'n_batches': 50,\n",
    "        'hidden_layer_sizes': [64, 32],\n",
    "        'alpha': 1.,\n",
    "    },\n",
    "}\n",
    "\n",
    "datasets = list(params.keys())\n",
    "\n",
    "clean_datasets = {\n",
    "    'COVID': 'COVI',\n",
    "    'MYOCARDIAL': 'MYOC',\n",
    "    'NHANES': 'NHAN',\n",
    "}\n",
    "\n",
    "approaches = [\n",
    "    'SINGLE',\n",
    "    'SINGLE-HOT-PATCH',\n",
    "    'MULTIPLE',\n",
    "    'HOT-PATCH',\n",
    "]\n",
    "\n",
    "clean_approaches = {\n",
    "    'SINGLE': 'SI',\n",
    "    'SINGLE-HOT-PATCH': 'S-HOT',\n",
    "    'MULTIPLE': 'MI',\n",
    "    'HOT-PATCH': 'M-HOT',\n",
    "}\n",
    "\n",
    "evaluation_metrics = [\n",
    "    'bal_acc',\n",
    "    'auc_ovo',\n",
    "    'f1',\n",
    "]\n",
    "\n",
    "clean_metrics = {\n",
    "    'bal_acc': 'bACC',\n",
    "    'auc_ovo': 'AUC',\n",
    "    'f1': 'F1',\n",
    "}\n",
    "\n",
    "num_lines = 1"
   ]
  },
  {
   "cell_type": "code",
   "execution_count": 13,
   "id": "85744219",
   "metadata": {
    "ExecuteTime": {
     "end_time": "2023-02-27T10:55:41.948995Z",
     "start_time": "2023-02-27T10:55:41.918346Z"
    }
   },
   "outputs": [
    {
     "name": "stdout",
     "output_type": "stream",
     "text": [
      "\\hline\n",
      "Dataset & Metric & \\textit{SI} & \\textit{S-HOT} & \\textit{MI} & \\textit{M-HOT} \\\\\n",
      "\\hline\n",
      "\\multirow{3}{*}{COVI} & bACC & $88.1085$ & $\\mathbf{88.2243}$ & $\\mathbf{88.4101}$ & $88.3932$ \\\\\n",
      "& AUC & $0.959175$ & $\\mathbf{0.9597053}$ & $0.9606792$ & $\\mathbf{0.9607641}$ \\\\\n",
      "& F1 & $88.1598$ & $\\mathbf{88.3403}$ & $\\mathbf{88.473}$ & $88.4681$ \\\\\n",
      "\\hline\n",
      "\\multirow{3}{*}{MYOC} & bACC & $69.6988$ & $\\mathbf{69.8614}$ & $70.0331$ & $\\mathbf{70.2846}$ \\\\\n",
      "& AUC & $0.8126983$ & $\\mathbf{0.8143542}$ & $0.8419529$ & $\\mathbf{0.8424803}$ \\\\\n",
      "& F1 & $84.9747$ & $\\mathbf{84.9862}$ & $85.6655$ & $\\mathbf{85.7106}$ \\\\\n",
      "\\hline\n",
      "\\multirow{3}{*}{NHAN} & bACC & $63.4962$ & $\\mathbf{63.5197}$ & $\\mathbf{64.2441}$ & $64.1943$ \\\\\n",
      "& AUC & $0.6982824$ & $\\mathbf{0.6984358}$ & $\\mathbf{0.7141273}$ & $0.7137177$ \\\\\n",
      "& F1 & $63.2441$ & $\\mathbf{63.2592}$ & $\\mathbf{63.9746}$ & $63.9232$ \\\\\n",
      "\\hline\n"
     ]
    }
   ],
   "source": [
    "print('\\\\hline')\n",
    "line = 'Dataset & Metric & '\n",
    "line += f'\\\\textit{{{clean_approaches[\"SINGLE\"]}}} & '\n",
    "line += f'\\\\textit{{{clean_approaches[\"SINGLE-HOT-PATCH\"]}}} & '\n",
    "line += f'\\\\textit{{{clean_approaches[\"MULTIPLE\"]}}} & '\n",
    "line += f'\\\\textit{{{clean_approaches[\"HOT-PATCH\"]}}} \\\\\\\\'\n",
    "print(line)\n",
    "print('\\\\hline')\n",
    "\n",
    "for dataset in datasets:\n",
    "    n_imputations = params[dataset]['n_imputations']\n",
    "    n_runs = params[dataset]['n_runs']\n",
    "    epochs = params[dataset]['epochs']\n",
    "    n_batches = params[dataset]['n_batches']\n",
    "    hidden_layer_sizes = params[dataset]['hidden_layer_sizes']\n",
    "    alpha = params[dataset]['alpha']\n",
    "    exp_name = f'{dataset}_n{n_imputations}_r{n_runs}_e{epochs}_b{n_batches}' + \\\n",
    "               f'_i{\"_\".join(map(str, hidden_layer_sizes))}_a{str(alpha).replace(\".\", \"_\")}'\n",
    "    if os.path.isfile(f'results/{exp_name}.pickle'):\n",
    "        metrics = pickle.load(open(f'results/{exp_name}.pickle', 'rb'))\n",
    "        line_means = f'{clean_datasets[dataset]} &'\n",
    "        for i, metric in enumerate(evaluation_metrics):\n",
    "            line_means = ''\n",
    "            values = {}\n",
    "            for m in evaluation_metrics:\n",
    "                values[m] = {'S': [], 'M': []}\n",
    "                for approach in approaches:\n",
    "                    if metric == 'auc_ovo':\n",
    "                        value = round(np.mean(metrics[imputation_method][approach][m]) / 100., 7)\n",
    "                    else:\n",
    "                        value = round(np.mean(metrics[imputation_method][approach][m]), 4)\n",
    "                    values[m][clean_approaches[approach][0]].append(value)\n",
    "            for a, approach in enumerate(approaches):\n",
    "                if a == 0 and i == 0:\n",
    "                    # Print dataset name\n",
    "                    line_means += f'\\\\multirow{{{len(evaluation_metrics)}}}{{*}}{{{clean_datasets[dataset]}}} '\n",
    "                if a == 0:\n",
    "                    # Print metric\n",
    "                    line_means += f'& {clean_metrics[metric]} '\n",
    "                if metric == 'auc_ovo':\n",
    "                    means = round(np.mean(metrics[imputation_method][approach][metric]) / 100., 7)\n",
    "                else:\n",
    "                    means = round(np.mean(metrics[imputation_method][approach][metric]), 4)\n",
    "                bold = means == max(values[metric][clean_approaches[approach][0]])\n",
    "                line_means += f'& $\\\\mathbf{{{means}}}$ ' if bold else f'& ${means}$ '\n",
    "            print(line_means + '\\\\\\\\')\n",
    "    print('\\\\hline')"
   ]
  }
 ],
 "metadata": {
  "kernelspec": {
   "display_name": "Python 3",
   "language": "python",
   "name": "python3"
  },
  "language_info": {
   "codemirror_mode": {
    "name": "ipython",
    "version": 3
   },
   "file_extension": ".py",
   "mimetype": "text/x-python",
   "name": "python",
   "nbconvert_exporter": "python",
   "pygments_lexer": "ipython3",
   "version": "3.9.7"
  },
  "latex_envs": {
   "LaTeX_envs_menu_present": true,
   "autoclose": false,
   "autocomplete": true,
   "bibliofile": "biblio.bib",
   "cite_by": "apalike",
   "current_citInitial": 1,
   "eqLabelWithNumbers": true,
   "eqNumInitial": 1,
   "hotkeys": {
    "equation": "Ctrl-E",
    "itemize": "Ctrl-I"
   },
   "labels_anchors": false,
   "latex_user_defs": false,
   "report_style_numbering": false,
   "user_envs_cfg": false
  }
 },
 "nbformat": 4,
 "nbformat_minor": 5
}
